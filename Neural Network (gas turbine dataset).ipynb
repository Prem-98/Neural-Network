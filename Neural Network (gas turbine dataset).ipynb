{
 "cells": [
  {
   "cell_type": "markdown",
   "metadata": {
    "id": "ALM8DH__UeK7"
   },
   "source": [
    "# Neural Network Model \n",
    "    Gas_turbines dataset"
   ]
  },
  {
   "cell_type": "code",
   "execution_count": null,
   "metadata": {
    "id": "NrLUSzjwUeK_"
   },
   "outputs": [],
   "source": [
    "from tensorflow import keras\n",
    "from keras.models import Sequential\n",
    "from keras.layers import Dense\n",
    "import numpy as np\n",
    "import pandas as pd\n",
    "from sklearn.preprocessing import StandardScaler\n",
    "import math\n",
    "from sklearn.metrics import mean_squared_error"
   ]
  },
  {
   "cell_type": "code",
   "execution_count": null,
   "metadata": {
    "id": "LH0uiTQ2UeLB"
   },
   "outputs": [],
   "source": [
    "# Loading dataset"
   ]
  },
  {
   "cell_type": "code",
   "execution_count": null,
   "metadata": {
    "colab": {
     "base_uri": "https://localhost:8080/",
     "height": 419
    },
    "id": "FHtrizO3UeLC",
    "outputId": "1133dcba-08db-458d-df70-1c3800962387"
   },
   "outputs": [
    {
     "data": {
      "text/html": [
       "<div>\n",
       "<style scoped>\n",
       "    .dataframe tbody tr th:only-of-type {\n",
       "        vertical-align: middle;\n",
       "    }\n",
       "\n",
       "    .dataframe tbody tr th {\n",
       "        vertical-align: top;\n",
       "    }\n",
       "\n",
       "    .dataframe thead th {\n",
       "        text-align: right;\n",
       "    }\n",
       "</style>\n",
       "<table border=\"1\" class=\"dataframe\">\n",
       "  <thead>\n",
       "    <tr style=\"text-align: right;\">\n",
       "      <th></th>\n",
       "      <th>AT</th>\n",
       "      <th>AP</th>\n",
       "      <th>AH</th>\n",
       "      <th>AFDP</th>\n",
       "      <th>GTEP</th>\n",
       "      <th>TIT</th>\n",
       "      <th>TAT</th>\n",
       "      <th>TEY</th>\n",
       "      <th>CDP</th>\n",
       "      <th>CO</th>\n",
       "      <th>NOX</th>\n",
       "    </tr>\n",
       "  </thead>\n",
       "  <tbody>\n",
       "    <tr>\n",
       "      <th>0</th>\n",
       "      <td>6.8594</td>\n",
       "      <td>1007.9</td>\n",
       "      <td>96.799</td>\n",
       "      <td>3.5000</td>\n",
       "      <td>19.663</td>\n",
       "      <td>1059.2</td>\n",
       "      <td>550.00</td>\n",
       "      <td>114.70</td>\n",
       "      <td>10.605</td>\n",
       "      <td>3.1547</td>\n",
       "      <td>82.722</td>\n",
       "    </tr>\n",
       "    <tr>\n",
       "      <th>1</th>\n",
       "      <td>6.7850</td>\n",
       "      <td>1008.4</td>\n",
       "      <td>97.118</td>\n",
       "      <td>3.4998</td>\n",
       "      <td>19.728</td>\n",
       "      <td>1059.3</td>\n",
       "      <td>550.00</td>\n",
       "      <td>114.72</td>\n",
       "      <td>10.598</td>\n",
       "      <td>3.2363</td>\n",
       "      <td>82.776</td>\n",
       "    </tr>\n",
       "    <tr>\n",
       "      <th>2</th>\n",
       "      <td>6.8977</td>\n",
       "      <td>1008.8</td>\n",
       "      <td>95.939</td>\n",
       "      <td>3.4824</td>\n",
       "      <td>19.779</td>\n",
       "      <td>1059.4</td>\n",
       "      <td>549.87</td>\n",
       "      <td>114.71</td>\n",
       "      <td>10.601</td>\n",
       "      <td>3.2012</td>\n",
       "      <td>82.468</td>\n",
       "    </tr>\n",
       "    <tr>\n",
       "      <th>3</th>\n",
       "      <td>7.0569</td>\n",
       "      <td>1009.2</td>\n",
       "      <td>95.249</td>\n",
       "      <td>3.4805</td>\n",
       "      <td>19.792</td>\n",
       "      <td>1059.6</td>\n",
       "      <td>549.99</td>\n",
       "      <td>114.72</td>\n",
       "      <td>10.606</td>\n",
       "      <td>3.1923</td>\n",
       "      <td>82.670</td>\n",
       "    </tr>\n",
       "    <tr>\n",
       "      <th>4</th>\n",
       "      <td>7.3978</td>\n",
       "      <td>1009.7</td>\n",
       "      <td>95.150</td>\n",
       "      <td>3.4976</td>\n",
       "      <td>19.765</td>\n",
       "      <td>1059.7</td>\n",
       "      <td>549.98</td>\n",
       "      <td>114.72</td>\n",
       "      <td>10.612</td>\n",
       "      <td>3.2484</td>\n",
       "      <td>82.311</td>\n",
       "    </tr>\n",
       "    <tr>\n",
       "      <th>...</th>\n",
       "      <td>...</td>\n",
       "      <td>...</td>\n",
       "      <td>...</td>\n",
       "      <td>...</td>\n",
       "      <td>...</td>\n",
       "      <td>...</td>\n",
       "      <td>...</td>\n",
       "      <td>...</td>\n",
       "      <td>...</td>\n",
       "      <td>...</td>\n",
       "      <td>...</td>\n",
       "    </tr>\n",
       "    <tr>\n",
       "      <th>15034</th>\n",
       "      <td>9.0301</td>\n",
       "      <td>1005.6</td>\n",
       "      <td>98.460</td>\n",
       "      <td>3.5421</td>\n",
       "      <td>19.164</td>\n",
       "      <td>1049.7</td>\n",
       "      <td>546.21</td>\n",
       "      <td>111.61</td>\n",
       "      <td>10.400</td>\n",
       "      <td>4.5186</td>\n",
       "      <td>79.559</td>\n",
       "    </tr>\n",
       "    <tr>\n",
       "      <th>15035</th>\n",
       "      <td>7.8879</td>\n",
       "      <td>1005.9</td>\n",
       "      <td>99.093</td>\n",
       "      <td>3.5059</td>\n",
       "      <td>19.414</td>\n",
       "      <td>1046.3</td>\n",
       "      <td>543.22</td>\n",
       "      <td>111.78</td>\n",
       "      <td>10.433</td>\n",
       "      <td>4.8470</td>\n",
       "      <td>79.917</td>\n",
       "    </tr>\n",
       "    <tr>\n",
       "      <th>15036</th>\n",
       "      <td>7.2647</td>\n",
       "      <td>1006.3</td>\n",
       "      <td>99.496</td>\n",
       "      <td>3.4770</td>\n",
       "      <td>19.530</td>\n",
       "      <td>1037.7</td>\n",
       "      <td>537.32</td>\n",
       "      <td>110.19</td>\n",
       "      <td>10.483</td>\n",
       "      <td>7.9632</td>\n",
       "      <td>90.912</td>\n",
       "    </tr>\n",
       "    <tr>\n",
       "      <th>15037</th>\n",
       "      <td>7.0060</td>\n",
       "      <td>1006.8</td>\n",
       "      <td>99.008</td>\n",
       "      <td>3.4486</td>\n",
       "      <td>19.377</td>\n",
       "      <td>1043.2</td>\n",
       "      <td>541.24</td>\n",
       "      <td>110.74</td>\n",
       "      <td>10.533</td>\n",
       "      <td>6.2494</td>\n",
       "      <td>93.227</td>\n",
       "    </tr>\n",
       "    <tr>\n",
       "      <th>15038</th>\n",
       "      <td>6.9279</td>\n",
       "      <td>1007.2</td>\n",
       "      <td>97.533</td>\n",
       "      <td>3.4275</td>\n",
       "      <td>19.306</td>\n",
       "      <td>1049.9</td>\n",
       "      <td>545.85</td>\n",
       "      <td>111.58</td>\n",
       "      <td>10.583</td>\n",
       "      <td>4.9816</td>\n",
       "      <td>92.498</td>\n",
       "    </tr>\n",
       "  </tbody>\n",
       "</table>\n",
       "<p>15039 rows × 11 columns</p>\n",
       "</div>"
      ],
      "text/plain": [
       "           AT      AP      AH    AFDP  ...     TEY     CDP      CO     NOX\n",
       "0      6.8594  1007.9  96.799  3.5000  ...  114.70  10.605  3.1547  82.722\n",
       "1      6.7850  1008.4  97.118  3.4998  ...  114.72  10.598  3.2363  82.776\n",
       "2      6.8977  1008.8  95.939  3.4824  ...  114.71  10.601  3.2012  82.468\n",
       "3      7.0569  1009.2  95.249  3.4805  ...  114.72  10.606  3.1923  82.670\n",
       "4      7.3978  1009.7  95.150  3.4976  ...  114.72  10.612  3.2484  82.311\n",
       "...       ...     ...     ...     ...  ...     ...     ...     ...     ...\n",
       "15034  9.0301  1005.6  98.460  3.5421  ...  111.61  10.400  4.5186  79.559\n",
       "15035  7.8879  1005.9  99.093  3.5059  ...  111.78  10.433  4.8470  79.917\n",
       "15036  7.2647  1006.3  99.496  3.4770  ...  110.19  10.483  7.9632  90.912\n",
       "15037  7.0060  1006.8  99.008  3.4486  ...  110.74  10.533  6.2494  93.227\n",
       "15038  6.9279  1007.2  97.533  3.4275  ...  111.58  10.583  4.9816  92.498\n",
       "\n",
       "[15039 rows x 11 columns]"
      ]
     },
     "execution_count": 3,
     "metadata": {
      "tags": []
     },
     "output_type": "execute_result"
    }
   ],
   "source": [
    "data=pd.read_csv('/content/gas_turbines.csv')\n",
    "data"
   ]
  },
  {
   "cell_type": "code",
   "execution_count": null,
   "metadata": {
    "colab": {
     "base_uri": "https://localhost:8080/"
    },
    "id": "7caKf1uPUeLD",
    "outputId": "170e9884-75ed-4b90-aae2-0c3162389568"
   },
   "outputs": [
    {
     "data": {
      "text/plain": [
       "Index(['AT', 'AP', 'AH', 'AFDP', 'GTEP', 'TIT', 'TAT', 'TEY', 'CDP', 'CO',\n",
       "       'NOX'],\n",
       "      dtype='object')"
      ]
     },
     "execution_count": 4,
     "metadata": {
      "tags": []
     },
     "output_type": "execute_result"
    }
   ],
   "source": [
    "data.columns"
   ]
  },
  {
   "cell_type": "code",
   "execution_count": null,
   "metadata": {
    "id": "iQ2vxnL_5HWN"
   },
   "outputs": [],
   "source": [
    "# Using only ambient variables as features and TEY as target variable as given in problem statement"
   ]
  },
  {
   "cell_type": "code",
   "execution_count": null,
   "metadata": {
    "id": "IVKibZ1oUeLE"
   },
   "outputs": [],
   "source": [
    "x=data[['AT', 'AP', 'AH']]\n",
    "y=data['TEY']"
   ]
  },
  {
   "cell_type": "code",
   "execution_count": null,
   "metadata": {
    "id": "9Dobwwz95Yli"
   },
   "outputs": [],
   "source": [
    "# Splitting data to train and test"
   ]
  },
  {
   "cell_type": "code",
   "execution_count": null,
   "metadata": {
    "colab": {
     "base_uri": "https://localhost:8080/"
    },
    "id": "VMYZmTPPdpeT",
    "outputId": "66cfb772-74e0-4509-e2ee-bd6ea7cd84e1"
   },
   "outputs": [
    {
     "name": "stdout",
     "output_type": "stream",
     "text": [
      "(10527, 3)\n",
      "(10527,)\n",
      "(4512, 3)\n",
      "(4512,)\n"
     ]
    }
   ],
   "source": [
    "from sklearn.model_selection import train_test_split\n",
    "x_train, x_test, y_train, y_test = train_test_split(x, y, test_size=0.3, random_state=42)\n",
    " \n",
    "\n",
    "print(x_train.shape)\n",
    "print(y_train.shape)\n",
    "print(x_test.shape)\n",
    "print(y_test.shape)"
   ]
  },
  {
   "cell_type": "code",
   "execution_count": null,
   "metadata": {
    "id": "WY8Aks5L5ffM"
   },
   "outputs": [],
   "source": [
    "# Buliding model with 3 hidden layers"
   ]
  },
  {
   "cell_type": "code",
   "execution_count": null,
   "metadata": {
    "id": "kn-JajK8UeLE"
   },
   "outputs": [],
   "source": [
    "\n",
    "model = Sequential()\n",
    "model.add(Dense(units=12, input_dim=3, kernel_initializer='normal', activation='relu'))\n",
    "model.add(Dense(units=8, kernel_initializer='normal', activation='tanh'))\n",
    "model.add(Dense(1, kernel_initializer='normal'))\n"
   ]
  },
  {
   "cell_type": "code",
   "execution_count": null,
   "metadata": {
    "id": "2iEgZSY15lNd"
   },
   "outputs": [],
   "source": [
    "# Compiling the model with Mean squared error as this is regression problem"
   ]
  },
  {
   "cell_type": "code",
   "execution_count": null,
   "metadata": {
    "id": "2suUhrGwVWpI"
   },
   "outputs": [],
   "source": [
    "model.compile(loss='mean_squared_error', optimizer='adam')"
   ]
  },
  {
   "cell_type": "code",
   "execution_count": null,
   "metadata": {
    "id": "obQCbjwf5vhL"
   },
   "outputs": [],
   "source": [
    "# Fitting the model with 50 epochs and batch size as 10"
   ]
  },
  {
   "cell_type": "code",
   "execution_count": null,
   "metadata": {
    "colab": {
     "base_uri": "https://localhost:8080/"
    },
    "id": "Ra16_RDnWCFl",
    "outputId": "e152946d-a2c3-451a-915a-e0dee435cd92"
   },
   "outputs": [
    {
     "name": "stdout",
     "output_type": "stream",
     "text": [
      "Epoch 1/50\n",
      "1053/1053 [==============================] - 2s 1ms/step - loss: 17621.8113\n",
      "Epoch 2/50\n",
      "1053/1053 [==============================] - 1s 1ms/step - loss: 15211.2284\n",
      "Epoch 3/50\n",
      "1053/1053 [==============================] - 1s 1ms/step - loss: 13155.0876\n",
      "Epoch 4/50\n",
      "1053/1053 [==============================] - 1s 1ms/step - loss: 11115.4618\n",
      "Epoch 5/50\n",
      "1053/1053 [==============================] - 1s 1ms/step - loss: 9457.2573\n",
      "Epoch 6/50\n",
      "1053/1053 [==============================] - 1s 1ms/step - loss: 7865.7330\n",
      "Epoch 7/50\n",
      "1053/1053 [==============================] - 1s 1ms/step - loss: 6424.1446\n",
      "Epoch 8/50\n",
      "1053/1053 [==============================] - 1s 1ms/step - loss: 5209.5563\n",
      "Epoch 9/50\n",
      "1053/1053 [==============================] - 1s 1ms/step - loss: 4035.3371\n",
      "Epoch 10/50\n",
      "1053/1053 [==============================] - 1s 1ms/step - loss: 3098.0494\n",
      "Epoch 11/50\n",
      "1053/1053 [==============================] - 1s 1ms/step - loss: 2318.6977\n",
      "Epoch 12/50\n",
      "1053/1053 [==============================] - 1s 1ms/step - loss: 1665.1145\n",
      "Epoch 13/50\n",
      "1053/1053 [==============================] - 1s 1ms/step - loss: 1133.3490\n",
      "Epoch 14/50\n",
      "1053/1053 [==============================] - 1s 1ms/step - loss: 773.1399\n",
      "Epoch 15/50\n",
      "1053/1053 [==============================] - 1s 1ms/step - loss: 510.3280\n",
      "Epoch 16/50\n",
      "1053/1053 [==============================] - 1s 1ms/step - loss: 363.1810\n",
      "Epoch 17/50\n",
      "1053/1053 [==============================] - 1s 1ms/step - loss: 274.2690\n",
      "Epoch 18/50\n",
      "1053/1053 [==============================] - 1s 1ms/step - loss: 257.0459\n",
      "Epoch 19/50\n",
      "1053/1053 [==============================] - 1s 1ms/step - loss: 250.3308\n",
      "Epoch 20/50\n",
      "1053/1053 [==============================] - 1s 1ms/step - loss: 251.5874\n",
      "Epoch 21/50\n",
      "1053/1053 [==============================] - 1s 1ms/step - loss: 246.0244\n",
      "Epoch 22/50\n",
      "1053/1053 [==============================] - 1s 1ms/step - loss: 248.3620\n",
      "Epoch 23/50\n",
      "1053/1053 [==============================] - 1s 1ms/step - loss: 248.3312\n",
      "Epoch 24/50\n",
      "1053/1053 [==============================] - 1s 1ms/step - loss: 250.6551\n",
      "Epoch 25/50\n",
      "1053/1053 [==============================] - 1s 1ms/step - loss: 255.3619\n",
      "Epoch 26/50\n",
      "1053/1053 [==============================] - 1s 1ms/step - loss: 246.9188\n",
      "Epoch 27/50\n",
      "1053/1053 [==============================] - 1s 1ms/step - loss: 248.9577\n",
      "Epoch 28/50\n",
      "1053/1053 [==============================] - 1s 1ms/step - loss: 251.1199\n",
      "Epoch 29/50\n",
      "1053/1053 [==============================] - 1s 1ms/step - loss: 249.2503\n",
      "Epoch 30/50\n",
      "1053/1053 [==============================] - 1s 1ms/step - loss: 247.9952\n",
      "Epoch 31/50\n",
      "1053/1053 [==============================] - 1s 1ms/step - loss: 250.8001\n",
      "Epoch 32/50\n",
      "1053/1053 [==============================] - 1s 1ms/step - loss: 247.7140\n",
      "Epoch 33/50\n",
      "1053/1053 [==============================] - 1s 1ms/step - loss: 252.3482\n",
      "Epoch 34/50\n",
      "1053/1053 [==============================] - 1s 1ms/step - loss: 246.9161\n",
      "Epoch 35/50\n",
      "1053/1053 [==============================] - 1s 1ms/step - loss: 251.4937\n",
      "Epoch 36/50\n",
      "1053/1053 [==============================] - 1s 1ms/step - loss: 246.8719\n",
      "Epoch 37/50\n",
      "1053/1053 [==============================] - 1s 1ms/step - loss: 249.2787\n",
      "Epoch 38/50\n",
      "1053/1053 [==============================] - 1s 1ms/step - loss: 248.3942\n",
      "Epoch 39/50\n",
      "1053/1053 [==============================] - 1s 1ms/step - loss: 243.5997\n",
      "Epoch 40/50\n",
      "1053/1053 [==============================] - 1s 1ms/step - loss: 254.5208\n",
      "Epoch 41/50\n",
      "1053/1053 [==============================] - 1s 1ms/step - loss: 244.5438\n",
      "Epoch 42/50\n",
      "1053/1053 [==============================] - 1s 1ms/step - loss: 251.3392\n",
      "Epoch 43/50\n",
      "1053/1053 [==============================] - 1s 1ms/step - loss: 244.4184\n",
      "Epoch 44/50\n",
      "1053/1053 [==============================] - 1s 1ms/step - loss: 250.6526\n",
      "Epoch 45/50\n",
      "1053/1053 [==============================] - 1s 1ms/step - loss: 251.3374\n",
      "Epoch 46/50\n",
      "1053/1053 [==============================] - 1s 1ms/step - loss: 252.6738\n",
      "Epoch 47/50\n",
      "1053/1053 [==============================] - 1s 1ms/step - loss: 251.8483\n",
      "Epoch 48/50\n",
      "1053/1053 [==============================] - 1s 1ms/step - loss: 256.4150\n",
      "Epoch 49/50\n",
      "1053/1053 [==============================] - 1s 1ms/step - loss: 246.5312\n",
      "Epoch 50/50\n",
      "1053/1053 [==============================] - 1s 1ms/step - loss: 251.1170\n"
     ]
    }
   ],
   "source": [
    "m=model.fit(x_train, y_train, epochs=50, batch_size=10)"
   ]
  },
  {
   "cell_type": "code",
   "execution_count": null,
   "metadata": {
    "id": "S0SKMUkT56iR"
   },
   "outputs": [],
   "source": [
    "# Predicting for test data"
   ]
  },
  {
   "cell_type": "code",
   "execution_count": null,
   "metadata": {
    "colab": {
     "base_uri": "https://localhost:8080/"
    },
    "id": "2m8h-t23WG1Q",
    "outputId": "860493da-b1fd-4df6-f70f-65c9aed0639b"
   },
   "outputs": [
    {
     "data": {
      "text/plain": [
       "array([[134.32242],\n",
       "       [134.32242],\n",
       "       [134.32242],\n",
       "       ...,\n",
       "       [134.32242],\n",
       "       [134.32242],\n",
       "       [134.32242]], dtype=float32)"
      ]
     },
     "execution_count": 89,
     "metadata": {
      "tags": []
     },
     "output_type": "execute_result"
    }
   ],
   "source": [
    "Predictions=model.predict(x_test)\n",
    "Predictions\n"
   ]
  },
  {
   "cell_type": "code",
   "execution_count": null,
   "metadata": {
    "colab": {
     "base_uri": "https://localhost:8080/"
    },
    "id": "jLeBzlG-icch",
    "outputId": "b3102412-afbf-47cf-e911-a6ac7a44c222"
   },
   "outputs": [
    {
     "name": "stdout",
     "output_type": "stream",
     "text": [
      "13312    134.46\n",
      "12627    111.88\n",
      "6393     133.72\n",
      "4990     133.79\n",
      "12462    110.77\n",
      "          ...  \n",
      "7495     134.08\n",
      "11501    102.87\n",
      "2685     155.96\n",
      "9412     133.67\n",
      "9775     156.32\n",
      "Name: TEY, Length: 4512, dtype: float64\n"
     ]
    }
   ],
   "source": [
    "print(y_test)"
   ]
  },
  {
   "cell_type": "code",
   "execution_count": null,
   "metadata": {
    "id": "sXYEBTXH6DME"
   },
   "outputs": [],
   "source": [
    "# Finding the error for our model"
   ]
  },
  {
   "cell_type": "code",
   "execution_count": null,
   "metadata": {
    "colab": {
     "base_uri": "https://localhost:8080/"
    },
    "id": "U8uW1at_kWqP",
    "outputId": "4f7af823-0554-4ab7-e66a-3ea2d5df0b27"
   },
   "outputs": [
    {
     "data": {
      "text/plain": [
       "15.889385124644923"
      ]
     },
     "execution_count": 83,
     "metadata": {
      "tags": []
     },
     "output_type": "execute_result"
    }
   ],
   "source": [
    "mean_squared_error(y_test,Predictions)\n",
    "math.sqrt(mean_squared_error(y_test,Predictions))"
   ]
  },
  {
   "cell_type": "markdown",
   "metadata": {
    "id": "3MEU_tie6LbI"
   },
   "source": [
    "**We got error of 15.8 for our model using above parameters**"
   ]
  },
  {
   "cell_type": "code",
   "execution_count": null,
   "metadata": {
    "id": "PK7m55bm6KJs"
   },
   "outputs": [],
   "source": []
  }
 ],
 "metadata": {
  "colab": {
   "name": "NN.ipynb",
   "provenance": []
  },
  "kernelspec": {
   "display_name": "Python 3",
   "language": "python",
   "name": "python3"
  },
  "language_info": {
   "codemirror_mode": {
    "name": "ipython",
    "version": 3
   },
   "file_extension": ".py",
   "mimetype": "text/x-python",
   "name": "python",
   "nbconvert_exporter": "python",
   "pygments_lexer": "ipython3",
   "version": "3.7.6"
  },
  "toc": {
   "base_numbering": 1,
   "nav_menu": {},
   "number_sections": true,
   "sideBar": true,
   "skip_h1_title": false,
   "title_cell": "Table of Contents",
   "title_sidebar": "Contents",
   "toc_cell": false,
   "toc_position": {},
   "toc_section_display": true,
   "toc_window_display": false
  }
 },
 "nbformat": 4,
 "nbformat_minor": 1
}
